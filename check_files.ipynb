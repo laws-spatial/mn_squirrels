{
 "cells": [
  {
   "cell_type": "code",
   "execution_count": 11,
   "id": "a1d65c45",
   "metadata": {},
   "outputs": [],
   "source": [
    "import filecmp\n",
    "# reading files"
   ]
  },
  {
   "cell_type": "code",
   "execution_count": 9,
   "id": "04e41a43",
   "metadata": {},
   "outputs": [],
   "source": [
    "f1 = open(\"./environment.yml\", \"r\") \n",
    "f2 = open(\"./environment_geoviews.yml\", \"r\") \n",
    "\n",
    "f1_data = f1.readlines()\n",
    "f2_data = f2.readlines()\n",
    " \n",
    "i = 0\n",
    " \n",
    "for line1 in f1_data:\n",
    "    i += 1\n",
    "     \n",
    "    for line2 in f2_data:\n",
    "         \n",
    "        # matching line1 from both files\n",
    "        if line1 == line2: \n",
    "            # print IDENTICAL if similar\n",
    "            print(\"Line \", i, \": IDENTICAL\")      \n",
    "        else:\n",
    "            print(\"Line \", i, \":\")\n",
    "            # else print that line from both files\n",
    "            print(\"\\tBase:\", line1, end='')\n",
    "            print(\"\\tGV:\", line2, end='')\n",
    "        break\n",
    " \n",
    "# closing files\n",
    "f1.close()                                      \n",
    "f2.close()                                     "
   ]
  },
  {
   "cell_type": "code",
   "execution_count": null,
   "id": "03b1b718",
   "metadata": {},
   "outputs": [],
   "source": [
    "f1 = open(\"./environment.yml\", \"r\") \n",
    "f2 = open(\"./environment_geoviews.yml\", \"r\") \n",
    "\n",
    "file1_lines = f1.readlines()\n",
    "file2_lines = f2.readlines()\n",
    "\n",
    "for i in range(len(file1_lines)):\n",
    "    if file1_lines[i] != file2_lines[i]:\n",
    "        print(\"Line \" + str(i+1) + \" doesn't match.\")\n",
    "        print(\"------------------------\")\n",
    "        print(\"Base: \" + file1_lines[i])\n",
    "        print(\"GV: \" + file2_lines[i])\n",
    "\n",
    "file1.close()\n",
    "file2.close()"
   ]
  },
  {
   "attachments": {},
   "cell_type": "markdown",
   "id": "3b3dc8de",
   "metadata": {},
   "source": [
    "Clear out packages in not_wanted.txt"
   ]
  },
  {
   "cell_type": "code",
   "execution_count": 4,
   "metadata": {},
   "outputs": [],
   "source": [
    "f1 = open(\"./environment_pangeo.yml\", \"r\") \n",
    "f2 = open(\"./not_wanted.txt\", \"r\") \n",
    "f3 = open(\"./environment_pangeo_updated.yml\",\"w\")\n",
    "\n",
    "file1_lines = f1.readlines()\n",
    "file2_lines = f2.readlines()\n",
    "\n",
    "nw_lines = []\n",
    "\n",
    "for line in file2_lines:\n",
    "    nw = line.strip()\n",
    "    nw_lines.append(nw)\n",
    "\n",
    "for line in file1_lines:\n",
    "    if line.strip() not in nw_lines:\n",
    "        f3.write(line)\n",
    "\n",
    "f1.close()\n",
    "f2.close()\n",
    "f3.close()"
   ]
  },
  {
   "cell_type": "code",
   "execution_count": 10,
   "id": "3ea0a5ad",
   "metadata": {},
   "outputs": [],
   "source": [
    "f1 = open(\"./environment_squirrel.yml\", \"r\") \n",
    "f2 = open(\"./environment_squirrel_updated.yml\", \"w\") \n",
    "\n",
    "file1_lines = f1.readlines()\n",
    "\n",
    "nw_lines = []\n",
    "\n",
    "for line in file1_lines:\n",
    "    if \"=\" in line:\n",
    "        nw = line.split(\"=\")[0]\n",
    "        nw_write = f\"{nw}\\n\"\n",
    "        f2.write(nw_write)\n",
    "    else:\n",
    "        f2.write(line)\n",
    "\n",
    "# for line in file1_lines:\n",
    "#     if line.strip() not in nw_lines:\n",
    "#         f3.write(line)\n",
    "\n",
    "f1.close()\n",
    "f2.close()"
   ]
  }
 ],
 "metadata": {
  "kernelspec": {
   "display_name": "squirrel",
   "language": "python",
   "name": "python3"
  },
  "language_info": {
   "codemirror_mode": {
    "name": "ipython",
    "version": 3
   },
   "file_extension": ".py",
   "mimetype": "text/x-python",
   "name": "python",
   "nbconvert_exporter": "python",
   "pygments_lexer": "ipython3",
   "version": "3.9.16"
  },
  "vscode": {
   "interpreter": {
    "hash": "2bbc3f752dfaeaf5994ec8f2402a2c1bd3f6ba985ed3605afd008f97878565fc"
   }
  }
 },
 "nbformat": 4,
 "nbformat_minor": 5
}
