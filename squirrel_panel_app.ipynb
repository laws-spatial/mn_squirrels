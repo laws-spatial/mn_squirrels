{
 "cells": [
  {
   "cell_type": "code",
   "execution_count": null,
   "metadata": {},
   "outputs": [],
   "source": [
    "import geoviews as gv\n",
    "import os \n",
    "os.environ['USE_PYGEOS'] = \"0\"\n",
    "import geopandas as gpd\n",
    "import panel as pn\n",
    "from cartopy import crs as ccrs\n",
    "pn.extension()\n",
    "\n",
    "# gv.extension('bokeh')\n",
    "\n",
    "# gv.output(dpi=120, fig='png')"
   ]
  },
  {
   "cell_type": "code",
   "execution_count": null,
   "metadata": {},
   "outputs": [],
   "source": [
    "# set crs\n",
    "crs = ccrs.PlateCarree()"
   ]
  },
  {
   "cell_type": "code",
   "execution_count": null,
   "metadata": {},
   "outputs": [],
   "source": [
    "# read in pl_oaks from gpkg\n",
    "oaks = gpd.read_file('data/result/mn_squirrels.gpkg', layer=\"pl_oaks\")\n",
    "oaks = oaks.to_crs(crs)\n",
    "oaks"
   ]
  },
  {
   "cell_type": "code",
   "execution_count": null,
   "metadata": {},
   "outputs": [],
   "source": [
    "# create a geoviews object from oaks\n",
    "gv_oaks = gv.Polygons(oaks, vdims=\"COVER_TP_I\").opts(projection=crs, width=600, tools=['hover'])\n",
    "\n",
    "# create a panel object from gv_oaks\n",
    "# pn_oaks = pn.panel(gv_oaks)\n",
    "\n",
    "# display the panel object\n",
    "# pn_oaks"
   ]
  },
  {
   "cell_type": "code",
   "execution_count": null,
   "metadata": {},
   "outputs": [],
   "source": [
    "# \n",
    "sl_url = 'https://resources.gisdata.mn.gov/pub/gdrs/data/pub/us_mn_state_dnr/bdry_dnr_managed_areas/shp_bdry_dnr_managed_areas.zip'\n",
    "\n",
    "# read in the shapefile\n",
    "sl = gpd.read_file(sl_url)\n",
    "\n",
    "# sl = sl.to_crs(crs)"
   ]
  },
  {
   "cell_type": "code",
   "execution_count": null,
   "metadata": {},
   "outputs": [],
   "source": [
    "# sub/fix geos and change crs\n",
    "sl_sub = sl[[\"UNIT_NAME\", \"UNIT_TYPE\", \"GIS_ACRES\", \"geometry\"]]\n",
    "sl_sub = sl_sub.loc[sl_sub.geometry.is_valid] # drop invalid geometries\n",
    "sl_sub = sl_sub.to_crs(crs)\n",
    "sl_sub = sl_sub.fillna(\"Blank\") # fill issues with geoviews and None"
   ]
  },
  {
   "cell_type": "code",
   "execution_count": null,
   "metadata": {},
   "outputs": [],
   "source": [
    "gv_sl_sub = gv.Polygons(sl_sub, vdims=\"UNIT_TYPE\").opts(projection=crs, width=600, tools=['hover'])\n",
    "\n",
    "# create a panel object from gv_sl\n",
    "# pn_sl_sub = pn.panel(gv_sl_sub)\n",
    "\n",
    "# display the panel object\n",
    "# pn_sl_sub"
   ]
  },
  {
   "cell_type": "code",
   "execution_count": null,
   "metadata": {},
   "outputs": [],
   "source": [
    "panel_maps = gv_sl_sub * gv_oaks\n",
    "panel_app =  pn.panel(panel_maps)\n",
    "# panel_app.show()"
   ]
  }
 ],
 "metadata": {
  "kernelspec": {
   "display_name": "Python 3 (ipykernel)",
   "language": "python",
   "name": "python3"
  },
  "language_info": {
   "codemirror_mode": {
    "name": "ipython",
    "version": 3
   },
   "file_extension": ".py",
   "mimetype": "text/x-python",
   "name": "python",
   "nbconvert_exporter": "python",
   "pygments_lexer": "ipython3",
   "version": "3.10.9"
  },
  "vscode": {
   "interpreter": {
    "hash": "260f43b434afc907e2615871db7da734c7d706b23fc82322e4eba4548b631e10"
   }
  }
 },
 "nbformat": 4,
 "nbformat_minor": 2
}
